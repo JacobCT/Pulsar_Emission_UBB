{
 "cells": [
  {
   "cell_type": "code",
   "execution_count": 1,
   "id": "5ac54855",
   "metadata": {},
   "outputs": [],
   "source": [
    "import matplotlib.pyplot as plt\n",
    "import numpy as np\n",
    "import pandas as pd\n",
    "import re\n",
    "from functools import reduce\n",
    "import os, glob\n",
    "import psrchive"
   ]
  },
  {
   "cell_type": "markdown",
   "id": "3f96e849",
   "metadata": {},
   "source": [
    "Given a folder full of RFI-zapped PSRCHIVE archive files, will return a list of frequencies zappes in all observations.\n",
    "\n",
    "Jacob Cardinal Tremblay"
   ]
  },
  {
   "cell_type": "code",
   "execution_count": 2,
   "id": "4d68c9df",
   "metadata": {},
   "outputs": [],
   "source": [
    "def convert_file_to_int(file):\n",
    "    templist = []\n",
    "    #Read in the numbers between the quotes\n",
    "    quotes = re.findall(r'\"[^\"]*\"', file)\n",
    "    #Make a list of what is in the quotes\n",
    "    for quote in quotes:\n",
    "        templist.append(quote)\n",
    "    \n",
    "    #Split each number into it's own value of the array\n",
    "    #splitarr = quotes.split()\n",
    "    #Remove the quotations\n",
    "    #splitarr = [s.replace('\\\"', '') for s in splitarr]\n",
    "    #Convert the strings to ints\n",
    "    #intarr = [eval(i) for i in splitarr]\n",
    "    \n",
    "    intarr = []\n",
    "    for quote in templist:\n",
    "        # Remove the quotations\n",
    "        clean_quote = quote.replace('\"', '')\n",
    "        # Split each number into its own value of the array\n",
    "        splitarr = clean_quote.split()\n",
    "        # Convert the strings to ints\n",
    "        intarr.extend([eval(i) for i in splitarr])\n",
    "    \n",
    "    \n",
    "    return(intarr)"
   ]
  },
  {
   "cell_type": "code",
   "execution_count": 3,
   "id": "c5b8242f",
   "metadata": {},
   "outputs": [],
   "source": [
    "def chn_to_freq(path, file):\n",
    "    #Load in the raw data and transform it\n",
    "    full_path = path + file\n",
    "    File = psrchive.Archive_load(full_path)\n",
    "    File.tscrunch()\n",
    "    File.dedisperse()\n",
    "    File.pscrunch()\n",
    "    File.remove_baseline()\n",
    "    freq_mhz_table = File.get_frequency_table()\n",
    "    freq_mhz = freq_mhz_table[0]\n",
    "    return(freq_mhz)"
   ]
  },
  {
   "cell_type": "code",
   "execution_count": 4,
   "id": "e39417b7",
   "metadata": {},
   "outputs": [],
   "source": [
    "def export_list_to_txt(lst, filename):\n",
    "    with open(filename, 'w') as file:\n",
    "        for item in lst:\n",
    "            file.write(str(item) + '\\n')"
   ]
  },
  {
   "cell_type": "markdown",
   "id": "c1c898ef",
   "metadata": {},
   "source": [
    "### Search1:"
   ]
  },
  {
   "cell_type": "code",
   "execution_count": 5,
   "id": "637514d3",
   "metadata": {},
   "outputs": [],
   "source": [
    "#Create the arrays we will use\n",
    "file_list = []\n",
    "freq_list = []\n",
    "#Define the path of the file\n",
    "path = '/srv/storage_11/galc/UBB/jtremblay/singlepulse/'\n",
    "\n",
    "#Acess the directory\n",
    "files = os.listdir(path)\n",
    "\n",
    "#Look into the directory and find a file ending in pazi, which will then give the frequencies\n",
    "for file in files:\n",
    "    if file.endswith('.pazi'):\n",
    "        freqs = chn_to_freq(path, file)\n",
    "        freq_list.append(freqs)\n",
    "        break\n",
    "\n",
    "\n",
    "#Find the manually cleaned files and get a list of the bad indexes\n",
    "for filename in glob.glob(os.path.join(path, '*_clean.txt')):\n",
    "    f = open(filename, 'r').read()\n",
    "    file  = convert_file_to_int(f)\n",
    "    file_list.append(file)"
   ]
  },
  {
   "cell_type": "code",
   "execution_count": 6,
   "id": "f1c8c71a",
   "metadata": {},
   "outputs": [
    {
     "name": "stdout",
     "output_type": "stream",
     "text": [
      "[ 23  24  25  26  27  28  29  30  41  42  43  44  45  46  47  48  49  50\n",
      "  51  52  53  54  55  56  57  58  59  60  61  62  63  64  65  66  67  68\n",
      "  69  70  71  72  73  74  75  76  77  78  79  80  81  82  83  84  85  86\n",
      "  87  88  89  90  91  92  93  94  95  96  97  98  99 100 101 102 103 104\n",
      " 105 106 107 108 109 110 111 112 113 114 115 116 117 118 119 120 121 122\n",
      " 123 124 125 126 127 128 129 130 131 132 133 134 135 136 137 138 139 140\n",
      " 141 142 143 144 145 146 147 148 149 150 151 152 153 154 155 156 157 158\n",
      " 159 160 161 162 163 164 165 166 167 168 169 170 171 172 173 174 175 176\n",
      " 177 178 179 180 181 182 183 184 185 186 187 188 189 190 191 192 193 194\n",
      " 195 196 197 198 199 200 201 202 203 204 205 206 207 232 233 234 235 236\n",
      " 237 238 302 303 304 305 319 366 367 368 369 416 444 445 446 447 448 449\n",
      " 450 451 452 453 454 455 456 457 458 459 460 461 462 463 464 465 466 467\n",
      " 468 469 470 471 472 473 474 475 476 477 478 479 480 481 482 483 484 485\n",
      " 486 487 488 489 490 491 492]\n",
      "[1915.9765625 1914.9609375 1913.9453125 1912.9296875 1911.9140625\n",
      " 1910.8984375 1909.8828125 1908.8671875 1897.6953125 1896.6796875\n",
      " 1895.6640625 1894.6484375 1893.6328125 1892.6171875 1891.6015625\n",
      " 1890.5859375 1889.5703125 1888.5546875 1887.5390625 1886.5234375\n",
      " 1885.5078125 1884.4921875 1883.4765625 1882.4609375 1881.4453125\n",
      " 1880.4296875 1879.4140625 1878.3984375 1877.3828125 1876.3671875\n",
      " 1875.3515625 1874.3359375 1873.3203125 1872.3046875 1871.2890625\n",
      " 1870.2734375 1869.2578125 1868.2421875 1867.2265625 1866.2109375\n",
      " 1865.1953125 1864.1796875 1863.1640625 1862.1484375 1861.1328125\n",
      " 1860.1171875 1859.1015625 1858.0859375 1857.0703125 1856.0546875\n",
      " 1855.0390625 1854.0234375 1853.0078125 1851.9921875 1850.9765625\n",
      " 1849.9609375 1848.9453125 1847.9296875 1846.9140625 1845.8984375\n",
      " 1844.8828125 1843.8671875 1842.8515625 1841.8359375 1840.8203125\n",
      " 1839.8046875 1838.7890625 1837.7734375 1836.7578125 1835.7421875\n",
      " 1834.7265625 1833.7109375 1832.6953125 1831.6796875 1830.6640625\n",
      " 1829.6484375 1828.6328125 1827.6171875 1826.6015625 1825.5859375\n",
      " 1824.5703125 1823.5546875 1822.5390625 1821.5234375 1820.5078125\n",
      " 1819.4921875 1818.4765625 1817.4609375 1816.4453125 1815.4296875\n",
      " 1814.4140625 1813.3984375 1812.3828125 1811.3671875 1810.3515625\n",
      " 1809.3359375 1808.3203125 1807.3046875 1806.2890625 1805.2734375\n",
      " 1804.2578125 1803.2421875 1802.2265625 1801.2109375 1800.1953125\n",
      " 1799.1796875 1798.1640625 1797.1484375 1796.1328125 1795.1171875\n",
      " 1794.1015625 1793.0859375 1792.0703125 1791.0546875 1790.0390625\n",
      " 1789.0234375 1788.0078125 1786.9921875 1785.9765625 1784.9609375\n",
      " 1783.9453125 1782.9296875 1781.9140625 1780.8984375 1779.8828125\n",
      " 1778.8671875 1777.8515625 1776.8359375 1775.8203125 1774.8046875\n",
      " 1773.7890625 1772.7734375 1771.7578125 1770.7421875 1769.7265625\n",
      " 1768.7109375 1767.6953125 1766.6796875 1765.6640625 1764.6484375\n",
      " 1763.6328125 1762.6171875 1761.6015625 1760.5859375 1759.5703125\n",
      " 1758.5546875 1757.5390625 1756.5234375 1755.5078125 1754.4921875\n",
      " 1753.4765625 1752.4609375 1751.4453125 1750.4296875 1749.4140625\n",
      " 1748.3984375 1747.3828125 1746.3671875 1745.3515625 1744.3359375\n",
      " 1743.3203125 1742.3046875 1741.2890625 1740.2734375 1739.2578125\n",
      " 1738.2421875 1737.2265625 1736.2109375 1735.1953125 1734.1796875\n",
      " 1733.1640625 1732.1484375 1731.1328125 1730.1171875 1729.1015625\n",
      " 1703.7109375 1702.6953125 1701.6796875 1700.6640625 1699.6484375\n",
      " 1698.6328125 1697.6171875 1632.6171875 1631.6015625 1630.5859375\n",
      " 1629.5703125 1615.3515625 1567.6171875 1566.6015625 1565.5859375\n",
      " 1564.5703125 1516.8359375 1488.3984375 1487.3828125 1486.3671875\n",
      " 1485.3515625 1484.3359375 1483.3203125 1482.3046875 1481.2890625\n",
      " 1480.2734375 1479.2578125 1478.2421875 1477.2265625 1476.2109375\n",
      " 1475.1953125 1474.1796875 1473.1640625 1472.1484375 1471.1328125\n",
      " 1470.1171875 1469.1015625 1468.0859375 1467.0703125 1466.0546875\n",
      " 1465.0390625 1464.0234375 1463.0078125 1461.9921875 1460.9765625\n",
      " 1459.9609375 1458.9453125 1457.9296875 1456.9140625 1455.8984375\n",
      " 1454.8828125 1453.8671875 1452.8515625 1451.8359375 1450.8203125\n",
      " 1449.8046875 1448.7890625 1447.7734375 1446.7578125 1445.7421875\n",
      " 1444.7265625 1443.7109375 1442.6953125 1441.6796875 1440.6640625\n",
      " 1439.6484375]\n"
     ]
    }
   ],
   "source": [
    "#Create a list of the bad indexes by only including the indexes present in all files\n",
    "bad_freqs = []\n",
    "bad_index = reduce(np.intersect1d,file_list)[:-1]\n",
    "\n",
    "#Create a list of bad frequencies by using the bad indexes\n",
    "for i in bad_index:\n",
    "    bad_freqs = np.append(bad_freqs, freq_list[0][i])\n",
    "\n",
    "print(bad_index)\n",
    "print(bad_freqs)"
   ]
  },
  {
   "cell_type": "code",
   "execution_count": 8,
   "id": "0e64c430",
   "metadata": {},
   "outputs": [
    {
     "name": "stdout",
     "output_type": "stream",
     "text": [
      "Array exported to file\n"
     ]
    }
   ],
   "source": [
    "export_list_to_txt(bad_index, 'bad_freq_python.txt')\n",
    "export_list_to_txt(bad_freqs, 'bad_freqs_python.txt')\n",
    "print('Array exported to file')"
   ]
  },
  {
   "cell_type": "markdown",
   "id": "70be1d62",
   "metadata": {},
   "source": [
    "### Search2:"
   ]
  },
  {
   "cell_type": "code",
   "execution_count": null,
   "id": "bb270f9a",
   "metadata": {},
   "outputs": [],
   "source": [
    "#Create the arrays we will use\n",
    "file_list2 = []\n",
    "freq_list2 = []\n",
    "\n",
    "#Define the path of the file\n",
    "path2 = '/srv/storage_11/galc/UBB/jtremblay/singlepulse/cleaned_files/search2/'\n",
    "\n",
    "#Acess the directory\n",
    "files2 = os.listdir(path2)\n",
    "\n",
    "#Look into the directory and find a file ending in pazi, which will then give the frequencies\n",
    "for file2 in files2:\n",
    "    if file2.endswith('.pazi'):\n",
    "        freqs = chn_to_freq(path2, file2)\n",
    "        freq_list2.append(freqs)\n",
    "        break\n",
    "\n",
    "#Find the manually cleaned files and get a list of the bad indexes\n",
    "for filename2 in glob.glob(os.path.join(path2, '*.txt')):\n",
    "    f = open(filename2, 'r').read()\n",
    "    file  = convert_file_to_int(f)\n",
    "    file_list2.append(file)"
   ]
  },
  {
   "cell_type": "code",
   "execution_count": null,
   "id": "ba83d33b",
   "metadata": {},
   "outputs": [],
   "source": [
    "#Create a list of the bad indexes by only including the indexes present in all files\n",
    "bad_freqs2 = []\n",
    "bad_index2 = reduce(np.intersect1d,file_list2)[:-1]\n",
    "\n",
    "#Create a list of bad frequencies by using the bad indexes\n",
    "for i in bad_index2:\n",
    "    bad_freqs2 = np.append(bad_freqs2, freq_list2[0][i])\n",
    "    \n",
    "print(bad_freqs2)"
   ]
  },
  {
   "cell_type": "markdown",
   "id": "e0005295",
   "metadata": {},
   "source": [
    "### Search3"
   ]
  },
  {
   "cell_type": "code",
   "execution_count": null,
   "id": "4c37dd85",
   "metadata": {},
   "outputs": [],
   "source": [
    "#Create the arrays we will use\n",
    "file_list3 = []\n",
    "freq_list3 = []\n",
    "\n",
    "#Define the path of the file\n",
    "path3 = '/srv/storage_11/galc/UBB/jtremblay/singlepulse/cleaned_files/search3/'\n",
    "\n",
    "#Acess the directory\n",
    "files3 = os.listdir(path3)\n",
    "\n",
    "#Look into the directory and find a file ending in pazi, which will then give the frequencies\n",
    "for file3 in files3:\n",
    "    if file3.endswith('.pazi'):\n",
    "        freqs = chn_to_freq(path3, file3)\n",
    "        freq_list3.append(freqs)\n",
    "        break\n",
    "\n",
    "#Find the manually cleaned files and get a list of the bad indexes\n",
    "for filename3 in glob.glob(os.path.join(path3, '*.txt')):\n",
    "    f = open(filename3, 'r').read()\n",
    "    file  = convert_file_to_int(f)\n",
    "    file_list3.append(file)"
   ]
  },
  {
   "cell_type": "code",
   "execution_count": null,
   "id": "154f457b",
   "metadata": {},
   "outputs": [],
   "source": [
    "#Create a list of the bad indexes by only including the indexes present in all files\n",
    "bad_freqs3 = []\n",
    "bad_index3 = reduce(np.intersect1d,file_list3)[:-1]\n",
    "\n",
    "#Create a list of bad frequencies by using the bad indexes\n",
    "for i in bad_index3:\n",
    "    bad_freqs3 = np.append(bad_freqs3, freq_list3[0][i])\n",
    "    \n",
    "print(bad_freqs3)"
   ]
  },
  {
   "cell_type": "markdown",
   "id": "b305fc61",
   "metadata": {},
   "source": [
    "### Search4"
   ]
  },
  {
   "cell_type": "code",
   "execution_count": null,
   "id": "dbc036ab",
   "metadata": {},
   "outputs": [],
   "source": [
    "#Create the arrays we will use\n",
    "file_list4 = []\n",
    "freq_list4 = []\n",
    "\n",
    "#Define the path of the file\n",
    "path4 = '/srv/storage_11/galc/UBB/jtremblay/singlepulse/cleaned_files/search4/'\n",
    "\n",
    "#Acess the directory\n",
    "files4 = os.listdir(path4)\n",
    "\n",
    "#Look into the directory and find a file ending in pazi, which will then give the frequencies\n",
    "for file4 in files4:\n",
    "    if file4.endswith('.pazi'):\n",
    "        freqs = chn_to_freq(path4, file4)\n",
    "        freq_list4.append(freqs)\n",
    "        break\n",
    "\n",
    "#Find the manually cleaned files and get a list of the bad indexes\n",
    "path4 = '/srv/storage_11/galc/UBB/jtremblay/singlepulse/cleaned_files/search4/'\n",
    "for filename4 in glob.glob(os.path.join(path4, '*.txt')):\n",
    "    f = open(filename4, 'r').read()\n",
    "    file  = convert_file_to_int(f)\n",
    "    file_list4.append(file)"
   ]
  },
  {
   "cell_type": "code",
   "execution_count": null,
   "id": "9a45c3e8",
   "metadata": {},
   "outputs": [],
   "source": [
    "#Create a list of the bad indexes by only including the indexes present in all files\n",
    "bad_freqs4 = []\n",
    "bad_index4 = reduce(np.intersect1d,file_list4)[:-1]\n",
    "\n",
    "#Create a list of bad frequencies by using the bad indexes\n",
    "for i in bad_index4:\n",
    "    bad_freqs4 = np.append(bad_freqs4, freq_list4[0][i])\n",
    "    \n",
    "print(bad_index4)\n",
    "print(bad_freqs4)"
   ]
  },
  {
   "cell_type": "markdown",
   "id": "9bac4e5e",
   "metadata": {},
   "source": [
    "### Search5"
   ]
  },
  {
   "cell_type": "code",
   "execution_count": null,
   "id": "292424a0",
   "metadata": {},
   "outputs": [],
   "source": [
    "#Create the arrays we will use\n",
    "file_list5 = []\n",
    "freq_list5 = []\n",
    "\n",
    "#Define the path of the file\n",
    "path5 = '/srv/storage_11/galc/UBB/jtremblay/singlepulse/cleaned_files/search5/'\n",
    "\n",
    "#Acess the directory\n",
    "files5 = os.listdir(path5)\n",
    "\n",
    "#Look into the directory and find a file ending in pazi, which will then give the frequencies\n",
    "for file5 in files5:\n",
    "    if file5.endswith('.pazi'):\n",
    "        freqs = chn_to_freq(path5, file5)\n",
    "        freq_list5.append(freqs)\n",
    "        break\n",
    "\n",
    "#Find the manually cleaned files and get a list of the bad indexes\n",
    "path5 = '/srv/storage_11/galc/UBB/jtremblay/singlepulse/cleaned_files/search5/'\n",
    "for filename5 in glob.glob(os.path.join(path5, '*.txt')):\n",
    "    f = open(filename5, 'r').read()\n",
    "    file  = convert_file_to_int(f)\n",
    "    file_list5.append(file)"
   ]
  },
  {
   "cell_type": "code",
   "execution_count": null,
   "id": "ebdacd0b",
   "metadata": {},
   "outputs": [],
   "source": [
    "#Create a list of the bad indexes by only including the indexes present in all files\n",
    "bad_freqs5 = []\n",
    "bad_index5 = reduce(np.intersect1d,file_list5)[:-1]\n",
    "\n",
    "#Create a list of bad frequencies by using the bad indexes\n",
    "for i in bad_index5:\n",
    "    bad_freqs5 = np.append(bad_freqs5, freq_list5[0][i])\n",
    "    \n",
    "print(bad_freqs5)"
   ]
  }
 ],
 "metadata": {
  "kernelspec": {
   "display_name": "Python 2",
   "language": "python",
   "name": "python2"
  },
  "language_info": {
   "codemirror_mode": {
    "name": "ipython",
    "version": 3
   },
   "file_extension": ".py",
   "mimetype": "text/x-python",
   "name": "python",
   "nbconvert_exporter": "python",
   "pygments_lexer": "ipython3",
   "version": "3.6.9"
  }
 },
 "nbformat": 4,
 "nbformat_minor": 5
}
